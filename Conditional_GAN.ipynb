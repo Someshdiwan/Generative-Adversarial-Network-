{
  "nbformat": 4,
  "nbformat_minor": 0,
  "metadata": {
    "colab": {
      "provenance": []
    },
    "kernelspec": {
      "name": "python3",
      "display_name": "Python 3"
    },
    "language_info": {
      "name": "python"
    }
  },
  "cells": [
    {
      "cell_type": "code",
      "execution_count": 1,
      "metadata": {
        "id": "rc2gFGNinppP"
      },
      "outputs": [],
      "source": [
        "import tensorflow as tf\n",
        "from tensorflow.keras.datasets import cifar10\n"
      ]
    },
    {
      "cell_type": "code",
      "source": [
        "# Load CIFAR-10 dataset\n",
        "(x_train, y_train), (x_test, y_test) = cifar10.load_data()"
      ],
      "metadata": {
        "colab": {
          "base_uri": "https://localhost:8080/"
        },
        "id": "A38-csvXoKkJ",
        "outputId": "beffa1f2-30cf-42f3-98ac-aa03de954762"
      },
      "execution_count": 2,
      "outputs": [
        {
          "output_type": "stream",
          "name": "stdout",
          "text": [
            "Downloading data from https://www.cs.toronto.edu/~kriz/cifar-10-python.tar.gz\n",
            "\u001b[1m170498071/170498071\u001b[0m \u001b[32m━━━━━━━━━━━━━━━━━━━━\u001b[0m\u001b[37m\u001b[0m \u001b[1m2s\u001b[0m 0us/step\n"
          ]
        }
      ]
    },
    {
      "cell_type": "code",
      "source": [
        "# Check the shape of the datasets\n",
        "(x_train.shape, y_train.shape), (x_test.shape, y_test.shape)\n"
      ],
      "metadata": {
        "colab": {
          "base_uri": "https://localhost:8080/"
        },
        "id": "XPwr6ZGPoN2I",
        "outputId": "85c6c8a3-8579-4882-b676-fdd6f8a248c1"
      },
      "execution_count": 3,
      "outputs": [
        {
          "output_type": "execute_result",
          "data": {
            "text/plain": [
              "(((50000, 32, 32, 3), (50000, 1)), ((10000, 32, 32, 3), (10000, 1)))"
            ]
          },
          "metadata": {},
          "execution_count": 3
        }
      ]
    },
    {
      "cell_type": "code",
      "source": [
        "#Import Libraries\n",
        "\n",
        "import tensorflow as tf\n",
        "from tensorflow.keras import layers\n",
        "import numpy as np\n",
        "import matplotlib.pyplot as plt"
      ],
      "metadata": {
        "id": "WS1yPsiJoTi7"
      },
      "execution_count": 5,
      "outputs": []
    },
    {
      "cell_type": "code",
      "source": [
        "#Load CIFAR-10 Dataset\n",
        "(x_train, y_train), (_, _) = tf.keras.datasets.cifar10.load_data()\n",
        "x_train = (x_train.astype('float32') - 127.5) / 127.5  # Normalize to [-1, 1]\n",
        "y_train = y_train.reshape(-1, 1)\n"
      ],
      "metadata": {
        "id": "5uts1RvDoVsk"
      },
      "execution_count": 6,
      "outputs": []
    },
    {
      "cell_type": "code",
      "source": [
        "#Build the Generator\n",
        "\n",
        "def build_generator():\n",
        "    noise = layers.Input(shape=(100,))\n",
        "    label = layers.Input(shape=(1,), dtype='int32')\n",
        "\n",
        "    label_embedding = layers.Embedding(10, 100)(label)\n",
        "    label_embedding = layers.Flatten()(label_embedding)\n",
        "\n",
        "    model_input = layers.multiply([noise, label_embedding])\n",
        "\n",
        "    x = layers.Dense(256)(model_input)\n",
        "    x = layers.LeakyReLU(alpha=0.2)(x)\n",
        "    x = layers.Dense(512)(x)\n",
        "    x = layers.LeakyReLU(alpha=0.2)(x)\n",
        "    x = layers.Dense(1024)(x)\n",
        "    x = layers.LeakyReLU(alpha=0.2)(x)\n",
        "    x = layers.Dense(32 * 32 * 3, activation='tanh')(x)\n",
        "    img = layers.Reshape((32, 32, 3))(x)\n",
        "\n",
        "    return tf.keras.models.Model([noise, label], img)\n"
      ],
      "metadata": {
        "id": "y6m0lKovoYt6"
      },
      "execution_count": 7,
      "outputs": []
    },
    {
      "cell_type": "code",
      "source": [
        "#Build the Discriminator\n",
        "\n",
        "def build_discriminator():\n",
        "    img = layers.Input(shape=(32, 32, 3))\n",
        "    label = layers.Input(shape=(1,), dtype='int32')\n",
        "\n",
        "    label_embedding = layers.Embedding(10, np.prod((32, 32, 3)))(label)\n",
        "    label_embedding = layers.Flatten()(label_embedding)\n",
        "    label_embedding = layers.Reshape((32, 32, 3))(label_embedding)\n",
        "\n",
        "    model_input = layers.multiply([img, label_embedding])\n",
        "\n",
        "    x = layers.Flatten()(model_input)\n",
        "    x = layers.Dense(512)(x)\n",
        "    x = layers.LeakyReLU(alpha=0.2)(x)\n",
        "    x = layers.Dense(256)(x)\n",
        "    x = layers.LeakyReLU(alpha=0.2)(x)\n",
        "    validity = layers.Dense(1, activation='sigmoid')(x)\n",
        "\n",
        "    return tf.keras.models.Model([img, label], validity)\n"
      ],
      "metadata": {
        "id": "-KqnhCkWogOM"
      },
      "execution_count": 8,
      "outputs": []
    },
    {
      "cell_type": "code",
      "source": [
        "#Compile the Models\n",
        "\n",
        "discriminator = build_discriminator()\n",
        "discriminator.compile(loss='binary_crossentropy',\n",
        "                      optimizer=tf.keras.optimizers.Adam(0.0002, 0.5),\n",
        "                      metrics=['accuracy'])\n",
        "\n",
        "generator = build_generator()\n",
        "noise = layers.Input(shape=(100,))\n",
        "label = layers.Input(shape=(1,))\n",
        "img = generator([noise, label])\n",
        "\n",
        "discriminator.trainable = False\n",
        "validity = discriminator([img, label])\n",
        "\n",
        "combined = tf.keras.models.Model([noise, label], validity)\n",
        "combined.compile(loss='binary_crossentropy', optimizer=tf.keras.optimizers.Adam(0.0002, 0.5))"
      ],
      "metadata": {
        "colab": {
          "base_uri": "https://localhost:8080/"
        },
        "id": "J0owiXF9oivM",
        "outputId": "944bf29a-89dd-416e-bfcb-4bfb6c4e73fd"
      },
      "execution_count": 9,
      "outputs": [
        {
          "output_type": "stream",
          "name": "stderr",
          "text": [
            "/usr/local/lib/python3.10/dist-packages/keras/src/layers/activations/leaky_relu.py:41: UserWarning: Argument `alpha` is deprecated. Use `negative_slope` instead.\n",
            "  warnings.warn(\n"
          ]
        }
      ]
    },
    {
      "cell_type": "code",
      "source": [
        "#Training the cGAN\n",
        "\n",
        "def train(epochs, batch_size=128, sample_interval=50):\n",
        "    half_batch = int(batch_size / 2)\n",
        "\n",
        "    for epoch in range(epochs):\n",
        "        # Train Discriminator\n",
        "        idx = np.random.randint(0, x_train.shape[0], half_batch)\n",
        "        imgs, labels = x_train[idx], y_train[idx]\n",
        "\n",
        "        noise = np.random.normal(0, 1, (half_batch, 100))\n",
        "        gen_imgs = generator.predict([noise, labels])\n",
        "\n",
        "        valid = np.ones((half_batch, 1))\n",
        "        fake = np.zeros((half_batch, 1))\n",
        "\n",
        "        d_loss_real = discriminator.train_on_batch([imgs, labels], valid)\n",
        "        d_loss_fake = discriminator.train_on_batch([gen_imgs, labels], fake)\n",
        "        d_loss = 0.5 * np.add(d_loss_real, d_loss_fake)\n",
        "\n",
        "        # Train Generator\n",
        "        noise = np.random.normal(0, 1, (batch_size, 100))\n",
        "        sampled_labels = np.random.randint(0, 10, (batch_size, 1))\n",
        "\n",
        "        valid = np.ones((batch_size, 1))\n",
        "        g_loss = combined.train_on_batch([noise, sampled_labels], valid)\n",
        "\n",
        "        if epoch % sample_interval == 0:\n",
        "            print(f\"{epoch} [D loss: {d_loss[0]}, acc.: {100 * d_loss[1]}] [G loss: {g_loss}]\")\n",
        "            sample_images(epoch)\n"
      ],
      "metadata": {
        "id": "YJfjfP1_owcc"
      },
      "execution_count": 10,
      "outputs": []
    },
    {
      "cell_type": "code",
      "source": [
        "def sample_images(epoch):\n",
        "    r, c = 2, 5\n",
        "    noise = np.random.normal(0, 1, (r * c, 100))\n",
        "    sampled_labels = np.array([num for _ in range(r) for num in range(c)])\n",
        "\n",
        "    gen_imgs = generator.predict([noise, sampled_labels])\n",
        "\n",
        "    gen_imgs = 0.5 * gen_imgs + 0.5  # Rescale to [0, 1]\n",
        "\n",
        "    fig, axs = plt.subplots(r, c)\n",
        "    cnt = 0\n",
        "    for i in range(r):\n",
        "        for j in range(c):\n",
        "            axs[i, j].imshow(gen_imgs[cnt, :, :, :])\n",
        "            axs[i, j].set_title(f\"Class: {sampled_labels[cnt]}\")\n",
        "            axs[i, j].axis('off')\n",
        "            cnt += 1\n",
        "    plt.show()\n",
        "\n",
        "train(epochs=10, batch_size=64, sample_interval=200)\n"
      ],
      "metadata": {
        "colab": {
          "base_uri": "https://localhost:8080/",
          "height": 658
        },
        "id": "azhnJrNhoz1q",
        "outputId": "c7a1a56c-23e6-40c4-cecd-f6a8a316ff4e"
      },
      "execution_count": 11,
      "outputs": [
        {
          "output_type": "stream",
          "name": "stdout",
          "text": [
            "\u001b[1m1/1\u001b[0m \u001b[32m━━━━━━━━━━━━━━━━━━━━\u001b[0m\u001b[37m\u001b[0m \u001b[1m0s\u001b[0m 320ms/step\n"
          ]
        },
        {
          "output_type": "stream",
          "name": "stderr",
          "text": [
            "/usr/local/lib/python3.10/dist-packages/keras/src/backend/tensorflow/trainer.py:75: UserWarning: The model does not have any trainable weights.\n",
            "  warnings.warn(\"The model does not have any trainable weights.\")\n"
          ]
        },
        {
          "output_type": "stream",
          "name": "stdout",
          "text": [
            "0 [D loss: 0.7021157741546631, acc.: 25.78125] [G loss: [array(0.699099, dtype=float32), array(0.699099, dtype=float32), array(0.484375, dtype=float32)]]\n",
            "\u001b[1m1/1\u001b[0m \u001b[32m━━━━━━━━━━━━━━━━━━━━\u001b[0m\u001b[37m\u001b[0m \u001b[1m0s\u001b[0m 143ms/step\n"
          ]
        },
        {
          "output_type": "display_data",
          "data": {
            "text/plain": [
              "<Figure size 640x480 with 10 Axes>"
            ],
            "image/png": "[encoded data removed]"
          },
          "metadata": {}
        },
        {
          "output_type": "stream",
          "name": "stdout",
          "text": [
            "\u001b[1m1/1\u001b[0m \u001b[32m━━━━━━━━━━━━━━━━━━━━\u001b[0m\u001b[37m\u001b[0m \u001b[1m0s\u001b[0m 43ms/step\n"
          ]
        },
        {
          "output_type": "stream",
          "name": "stderr",
          "text": [
            "WARNING:tensorflow:5 out of the last 5 calls to <function TensorFlowTrainer.make_train_function.<locals>.one_step_on_iterator at 0x7d6579d59480> triggered tf.function retracing. Tracing is expensive and the excessive number of tracings could be due to (1) creating @tf.function repeatedly in a loop, (2) passing tensors with different shapes, (3) passing Python objects instead of tensors. For (1), please define your @tf.function outside of the loop. For (2), @tf.function has reduce_retracing=True option that can avoid unnecessary retracing. For (3), please refer to https://www.tensorflow.org/guide/function#controlling_retracing and https://www.tensorflow.org/api_docs/python/tf/function for  more details.\n",
            "WARNING:tensorflow:6 out of the last 6 calls to <function TensorFlowTrainer.make_train_function.<locals>.one_step_on_iterator at 0x7d6579d5b640> triggered tf.function retracing. Tracing is expensive and the excessive number of tracings could be due to (1) creating @tf.function repeatedly in a loop, (2) passing tensors with different shapes, (3) passing Python objects instead of tensors. For (1), please define your @tf.function outside of the loop. For (2), @tf.function has reduce_retracing=True option that can avoid unnecessary retracing. For (3), please refer to https://www.tensorflow.org/guide/function#controlling_retracing and https://www.tensorflow.org/api_docs/python/tf/function for  more details.\n"
          ]
        },
        {
          "output_type": "stream",
          "name": "stdout",
          "text": [
            "\u001b[1m1/1\u001b[0m \u001b[32m━━━━━━━━━━━━━━━━━━━━\u001b[0m\u001b[37m\u001b[0m \u001b[1m0s\u001b[0m 177ms/step\n",
            "\u001b[1m1/1\u001b[0m \u001b[32m━━━━━━━━━━━━━━━━━━━━\u001b[0m\u001b[37m\u001b[0m \u001b[1m0s\u001b[0m 27ms/step\n",
            "\u001b[1m1/1\u001b[0m \u001b[32m━━━━━━━━━━━━━━━━━━━━\u001b[0m\u001b[37m\u001b[0m \u001b[1m0s\u001b[0m 27ms/step\n",
            "\u001b[1m1/1\u001b[0m \u001b[32m━━━━━━━━━━━━━━━━━━━━\u001b[0m\u001b[37m\u001b[0m \u001b[1m0s\u001b[0m 28ms/step\n",
            "\u001b[1m1/1\u001b[0m \u001b[32m━━━━━━━━━━━━━━━━━━━━\u001b[0m\u001b[37m\u001b[0m \u001b[1m0s\u001b[0m 28ms/step\n",
            "\u001b[1m1/1\u001b[0m \u001b[32m━━━━━━━━━━━━━━━━━━━━\u001b[0m\u001b[37m\u001b[0m \u001b[1m0s\u001b[0m 27ms/step\n",
            "\u001b[1m1/1\u001b[0m \u001b[32m━━━━━━━━━━━━━━━━━━━━\u001b[0m\u001b[37m\u001b[0m \u001b[1m0s\u001b[0m 29ms/step\n",
            "\u001b[1m1/1\u001b[0m \u001b[32m━━━━━━━━━━━━━━━━━━━━\u001b[0m\u001b[37m\u001b[0m \u001b[1m0s\u001b[0m 28ms/step\n"
          ]
        }
      ]
    }
  ]
}